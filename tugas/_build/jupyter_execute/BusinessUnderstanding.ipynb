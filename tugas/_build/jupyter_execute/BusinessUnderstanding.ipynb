{
 "cells": [
  {
   "cell_type": "markdown",
   "metadata": {},
   "source": [
    "# **Business Understanding**\n",
    "Dalam data science, terutama kalau mengikuti kerangka kerja CRISP-DM (Cross Industry Standard Process for Data Mining), tahap pertama adalah Business Understanding. Tahap ini sangat penting karena menjadi dasar dari keseluruhan proyek analisis data."
   ]
  },
  {
   "cell_type": "markdown",
   "metadata": {},
   "source": [
    "## **Pengertian**\n",
    "Business understanding adalah tahap awal krusial dalam proyek ilmu data dan analisis, yang bertujuan untuk memahami tujuan bisnis, masalah yang ada, serta kriteria keberhasilan sebelum melakukan pengumpulan dan analisis data. Proses ini memastikan bahwa solusi data dapat memberikan nilai tambah bagi organisasi dengan mengidentifikasi kebutuhan, tantangan, dan bagaimana data dapat memberikan kontribusi positif.\n",
    "Jadi sebelum kita menyentuh data, algoritma, atau coding, kita harus jelas dulu:\n",
    "\n",
    "- Masalah bisnis apa yang sedang dihadapi?\n",
    "\n",
    "- Tujuan apa yang ingin dicapai?\n",
    "\n",
    "- Bagaimana hasil analisis nanti bisa membantu pengambilan keputusan?"
   ]
  },
  {
   "cell_type": "markdown",
   "metadata": {},
   "source": [
    "## **Tujuan**\n",
    "\n",
    "1. Menyelaraskan data science dengan kebutuhan bisnis\n",
    "   - → Supaya solusi yang dihasilkan relevan, bukan sekadar teknis.\n",
    "\n",
    "2. Menentukan arah proyek\n",
    "   - → Menentukan variabel apa yang penting, model apa yang tepat, dan hasil seperti apa yang diharapkan.\n",
    "\n",
    "3. Mengubah masalah bisnis menjadi masalah data\n",
    "   - → Contoh: \"Bagaimana meningkatkan retensi pelanggan?\"\n",
    "   - → diterjemahkan menjadi \"Memprediksi kemungkinan pelanggan churn berdasarkan data transaksi.\"\n",
    "\n"
   ]
  },
  {
   "cell_type": "markdown",
   "metadata": {},
   "source": [
    "## **Kegiatan dalam Business Understanding**\n",
    "\n",
    "1. Menentukan tujuan bisnis\n",
    "    - Misalnya: meningkatkan penjualan, menurunkan biaya, memprediksi risiko.\n",
    "\n",
    "2. Menentukan tujuan data mining / data science\n",
    "    - Apa bentuk output yang dibutuhkan? (klasifikasi, prediksi, clustering, rekomendasi, dll.)\n",
    "\n",
    "3. Menyusun rencana awal\n",
    "    - Identifikasi sumber data, pendekatan analisis, serta batasan proyek.\n",
    "\n",
    "Jadi intinya, Business Understanding = jembatan antara masalah bisnis dan solusi berbasis data."
   ]
  }
 ],
 "metadata": {
  "kernelspec": {
   "display_name": "Python 3",
   "language": "python",
   "name": "python3"
  },
  "language_info": {
   "codemirror_mode": {
    "name": "ipython",
    "version": 3
   },
   "file_extension": ".py",
   "mimetype": "text/x-python",
   "name": "python",
   "nbconvert_exporter": "python",
   "pygments_lexer": "ipython3",
   "version": "3.12.1"
  },
  "widgets": {
   "application/vnd.jupyter.widget-state+json": {
    "state": {},
    "version_major": 2,
    "version_minor": 0
   }
  }
 },
 "nbformat": 4,
 "nbformat_minor": 4
}